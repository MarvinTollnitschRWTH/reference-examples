{
 "cells": [
  {
   "cell_type": "markdown",
   "metadata": {},
   "source": [
    "# Synchronous Generator Steady-State"
   ]
  },
  {
   "cell_type": "code",
   "execution_count": 22,
   "metadata": {},
   "outputs": [],
   "source": [
    "import numpy as np"
   ]
  },
  {
   "cell_type": "markdown",
   "metadata": {},
   "source": [
    "### Synchronous Machine Data\n",
    "from Kundur - Example 3.1 p. 91\n"
   ]
  },
  {
   "cell_type": "code",
   "execution_count": 23,
   "metadata": {},
   "outputs": [],
   "source": [
    "# nominal power\n",
    "nom_P = 555e6 \n",
    "# nominal phase to phase RMS voltage\n",
    "nom_V = 24e3 \n",
    "# nominal electrical frequency\n",
    "nom_f = 60\n",
    "# nominal electrical angular frequency\n",
    "wElec = 2 * np.pi * nom_f\n",
    "\n",
    "# stator and rotor parameters in per unit\n",
    "# armature winding resistance\n",
    "Rs = 0.003\n",
    "# leakage inductance\n",
    "Lls = 0.15 \n",
    "# d-axis mutual inductance\n",
    "Lmd = 1.66\n",
    "# q-axis mutual inductance\n",
    "Lmq = 1.61\n",
    "# d-axis winding self inductance\n",
    "Ld = Lmd + Lls \n",
    "# q-axis winding self inductance\n",
    "Lq = Lmq + Lls \n",
    "\n",
    "# field winding resistance\n",
    "Rfd = 0.0006\n",
    "# field winding leakage inductance\n",
    "Llfd = 0.165\n",
    "# field winding inductance\n",
    "Lfd = Lmd + Llfd \n",
    "# d-axis damper winding resistance\n",
    "Rkd = 0.0284\n",
    "# d-axis damper winding leakage inductance\n",
    "Llkd = 0.1713\n",
    "# q-axis damper winding 1 resistance\n",
    "Rkq1 = 0.0062\n",
    "# q-axis damper winding 1 leakage inductance\n",
    "Llkq1 = 0.7252\n",
    "# q-axis damper winding 2 resistance\n",
    "Rkq2 = 0.0237\n",
    "# q-axis damper winding 2 leakage inductance\n",
    "Llkq2 = 0.125\n",
    "\n",
    "# inertia constant\n",
    "H = 3.525\n",
    "# number of poles\n",
    "numPoles = 2"
   ]
  },
  {
   "cell_type": "markdown",
   "metadata": {},
   "source": [
    "### Per Unit Base Values"
   ]
  },
  {
   "cell_type": "code",
   "execution_count": 24,
   "metadata": {},
   "outputs": [],
   "source": [
    "# per unit stator base values\n",
    "# voltage\n",
    "base_v = nom_V * np.sqrt(2) / np.sqrt(3)\n",
    "# current\n",
    "base_i = nom_P * np.sqrt(2) / (nom_V * np.sqrt(3))\n",
    "# impedance\n",
    "base_Z = base_v / base_i\n",
    "# elctrical angular frequency\n",
    "base_wElec = 2 * np.pi * nom_f\n",
    "# mechanical angular frequency\n",
    "base_wMech = base_wElec / (numPoles / 2)\n",
    "# inductance\n",
    "base_L = base_Z / base_wElec\n",
    "# flux linkage\n",
    "base_psi = base_L * base_i\n",
    "# torque\n",
    "base_T = nom_P / base_wElec"
   ]
  },
  {
   "cell_type": "markdown",
   "metadata": {},
   "source": [
    "### Load Scenario"
   ]
  },
  {
   "cell_type": "code",
   "execution_count": 30,
   "metadata": {},
   "outputs": [],
   "source": [
    "# steady state load flow conditions\n",
    "# phase to phase terminal RMS voltage\n",
    "vt_scen = 24e3\n",
    "# active power\n",
    "P_scen = 300e6\n",
    "# reactive power\n",
    "Q_scen = 0"
   ]
  },
  {
   "cell_type": "markdown",
   "metadata": {},
   "source": [
    "### Calculation of initial conditions in steady state"
   ]
  },
  {
   "cell_type": "code",
   "execution_count": 32,
   "metadata": {},
   "outputs": [
    {
     "name": "stdout",
     "output_type": "stream",
     "text": [
      "Apparent power: (0.5405405405405406+0j)\n",
      "terminal voltage: 1.0\n",
      "terminal current: (0.5405405405405406-0j)\n",
      "power factor: -0.0\n",
      "rotor angle: 0.760472578720213\n"
     ]
    }
   ],
   "source": [
    "# steady state per unit initial values\n",
    "pu_P = P_scen / nom_P\n",
    "pu_Q = Q_scen / nom_P\n",
    "pu_S = pu_P + 1j*pu_Q\n",
    "\n",
    "v_t = vt_scen / np.sqrt(3) * np.sqrt(2) / base_v\n",
    "\n",
    "i_t = np.conjugate(pu_S / v_t)\n",
    "\n",
    "# power factor - angle between terminal voltage and current\n",
    "# alternative arccos(pu_P / pu_S)\n",
    "pf = np.angle(i_t)\n",
    "\n",
    "# delta = (w_r - w_0)t + delta_0\n",
    "# rotor position with respect to reference system\n",
    "\n",
    "# delta_i = delta - theta_vt\n",
    "# load angle, internal rotor angle\n",
    "# rotor with respect to terminal system\n",
    "E = v_t + 1j*Lq * i_t\n",
    "delta_i = np.angle(E)\n",
    "\n",
    "v_d = np.abs(v_t) * np.sin(delta_i)\n",
    "i_d = np.abs(i_t) * np.sin(delta_i + pf)\n",
    "\n",
    "v_q = np.abs(v_t) * np.cos(delta_i)\n",
    "i_q = np.abs(i_t) * np.cos(delta_i + pf)\n",
    "\n",
    "i_fd = (v_q + Rs * i_q + Ld * i_d) / Lmd\n",
    "v_fd = Rfd * i_fd\n",
    "\n",
    "psi_d = v_q + Rs * i_q\n",
    "psi_fd = Lfd * i_fd - Lmd * i_d\n",
    "psi_d1 = Lmd * (i_fd - i_d)\n",
    "\n",
    "psiq = - v_d - Rs * i_d\n",
    "psiq1 = - Lmq * i_q\n",
    "psiq2 = - Lmq * i_q\n",
    "\n",
    "Te = pu_P + Rs * pow(i_t, 2)\n",
    "\n",
    "# print\n",
    "print('Apparent power: ' + str(pu_S))\n",
    "print('terminal voltage: ' + str(v_t))\n",
    "print('terminal current: ' + str(i_t))\n",
    "print('power factor: ' + str(pf))\n",
    "print('rotor angle: ' + str(delta_i))"
   ]
  },
  {
   "cell_type": "markdown",
   "metadata": {},
   "source": [
    "### Classical model for transient stability studies"
   ]
  },
  {
   "cell_type": "code",
   "execution_count": 33,
   "metadata": {},
   "outputs": [
    {
     "name": "stdout",
     "output_type": "stream",
     "text": [
      "300000000.0\n",
      "0.1608060299431351\n"
     ]
    }
   ],
   "source": [
    "St = P_scen + 1j * Q_scen\n",
    "Vt = vt_scen\n",
    "It = np.conjugate(St / Vt)\n",
    "\n",
    "# d-axis transient reactance\n",
    "Xp_d = wElec * (Ld - Lmd**2 / Lfd) * base_L\n",
    "Ep = Vt + 1j * Xp_d * It\n",
    "deltap = np.angle(Ep)\n",
    "Pe = np.abs(Ep) * np.abs(Vt) / Xp_d * np.sin(deltap)\n",
    "\n",
    "print(Pe)\n",
    "print(deltap)\n"
   ]
  },
  {
   "cell_type": "code",
   "execution_count": null,
   "metadata": {},
   "outputs": [],
   "source": []
  }
 ],
 "metadata": {
  "kernelspec": {
   "display_name": "Python 3",
   "language": "python",
   "name": "python3"
  },
  "language_info": {
   "codemirror_mode": {
    "name": "ipython",
    "version": 3
   },
   "file_extension": ".py",
   "mimetype": "text/x-python",
   "name": "python",
   "nbconvert_exporter": "python",
   "pygments_lexer": "ipython3",
   "version": "3.6.4"
  }
 },
 "nbformat": 4,
 "nbformat_minor": 2
}
